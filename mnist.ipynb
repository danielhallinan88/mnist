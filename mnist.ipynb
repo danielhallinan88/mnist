{
 "cells": [
  {
   "cell_type": "code",
   "execution_count": 51,
   "metadata": {},
   "outputs": [],
   "source": [
    "from __future__ import print_function\n",
    "import keras\n",
    "from keras.datasets import mnist\n",
    "from keras.models import Sequential, Model, load_model\n",
    "from keras.layers import Dense, Dropout, Flatten, Input\n",
    "from keras.layers import Conv2D, MaxPooling2D\n",
    "from keras.utils import to_categorical, plot_model\n",
    "from keras.callbacks import ModelCheckpoint\n",
    "from keras import backend as K\n",
    "\n",
    "import matplotlib.pyplot as plt\n",
    "import numpy as np"
   ]
  },
  {
   "cell_type": "code",
   "execution_count": 31,
   "metadata": {},
   "outputs": [],
   "source": [
    "(X_train, y_train), (X_test, y_test) = mnist.load_data()"
   ]
  },
  {
   "cell_type": "code",
   "execution_count": 32,
   "metadata": {},
   "outputs": [
    {
     "name": "stdout",
     "output_type": "stream",
     "text": [
      "Label:  0\n",
      "Label type:  <class 'numpy.uint8'>\n"
     ]
    },
    {
     "data": {
      "image/png": "[encoded data removed]",
      "text/plain": [
       "<matplotlib.figure.Figure at 0x7f588ca92748>"
      ]
     },
     "metadata": {},
     "output_type": "display_data"
    }
   ],
   "source": [
    "# Display example\n",
    "\n",
    "sample = 1\n",
    "\n",
    "print(\"Label: \", y_train[sample])\n",
    "print(\"Label type: \", type(y_train[sample]))\n",
    "plt.imshow(X_train[sample])\n",
    "plt.show()"
   ]
  },
  {
   "cell_type": "code",
   "execution_count": 33,
   "metadata": {},
   "outputs": [],
   "source": [
    "def preprocess_features(features):\n",
    "    return features.reshape(features.shape[0], features.shape[1], features.shape[2], 1)\n",
    "\n",
    "def preprocess_labels(labels):\n",
    "    return to_categorical(labels, num_classes=10)"
   ]
  },
  {
   "cell_type": "code",
   "execution_count": 34,
   "metadata": {},
   "outputs": [
    {
     "name": "stdout",
     "output_type": "stream",
     "text": [
      "Training Feature shape: (60000, 28, 28, 1)\n",
      "Training Label shape: (60000, 10)\n",
      "Testing Feature shape: (10000, 28, 28, 1)\n",
      "Testing Label shape: (10000, 10)\n"
     ]
    }
   ],
   "source": [
    "processed_training_features = preprocess_features(X_train)\n",
    "print(\"Training Feature shape:\", processed_training_features.shape)\n",
    "\n",
    "processed_training_labels = preprocess_labels(y_train)\n",
    "print(\"Training Label shape:\", processed_training_labels.shape)\n",
    "\n",
    "processed_testing_features = preprocess_features(X_test)\n",
    "print(\"Testing Feature shape:\", processed_testing_features.shape)\n",
    "\n",
    "processed_testing_labels = preprocess_labels(y_test)\n",
    "print(\"Testing Label shape:\", processed_testing_labels.shape)"
   ]
  },
  {
   "cell_type": "code",
   "execution_count": 43,
   "metadata": {},
   "outputs": [],
   "source": [
    "def mlp():\n",
    "    model = Sequential()\n",
    "    model.add(Dense(32, activation='relu', input_shape=(28,28, 1)))\n",
    "    model.add(Dropout(0.25))\n",
    "    model.add(Dense(16, activation='relu'))\n",
    "    model.add(Dropout(0.25))\n",
    "    model.add(Dense(8, activation='relu'))\n",
    "    model.add(Dropout(0.25))\n",
    "    model.add(Flatten())\n",
    "    model.add(Dense(512, activation='relu'))\n",
    "    model.add(Dropout(0.25))\n",
    "    model.add(Dense(10, activation='softmax'))\n",
    "    model.summary()\n",
    "    \n",
    "    return model\n",
    "    \n",
    "def cnn():\n",
    "    inputs = Input(shape=(28,28, 1))\n",
    "    x = Conv2D(32, kernel_size=(3, 3), activation='relu')(inputs)\n",
    "    x = Conv2D(64, kernel_size=(3, 3), activation='relu')(x)\n",
    "    x = MaxPooling2D(pool_size=(2, 2))(x)\n",
    "    x = Dropout(0.25)(x)\n",
    "    x = Flatten()(x)\n",
    "    x = Dense(128, activation='relu')(x)\n",
    "    x = Dropout(0.5)(x)\n",
    "    predictions = Dense(10, activation='softmax')(x)\n",
    "    \n",
    "    model = Model(inputs=inputs, output=predictions)\n",
    "    model.summary()\n",
    "    \n",
    "    return model"
   ]
  },
  {
   "cell_type": "code",
   "execution_count": 36,
   "metadata": {},
   "outputs": [
    {
     "name": "stdout",
     "output_type": "stream",
     "text": [
      "_________________________________________________________________\n",
      "Layer (type)                 Output Shape              Param #   \n",
      "=================================================================\n",
      "dense_34 (Dense)             (None, 28, 28, 32)        64        \n",
      "_________________________________________________________________\n",
      "dropout_27 (Dropout)         (None, 28, 28, 32)        0         \n",
      "_________________________________________________________________\n",
      "dense_35 (Dense)             (None, 28, 28, 16)        528       \n",
      "_________________________________________________________________\n",
      "dropout_28 (Dropout)         (None, 28, 28, 16)        0         \n",
      "_________________________________________________________________\n",
      "dense_36 (Dense)             (None, 28, 28, 8)         136       \n",
      "_________________________________________________________________\n",
      "dropout_29 (Dropout)         (None, 28, 28, 8)         0         \n",
      "_________________________________________________________________\n",
      "flatten_8 (Flatten)          (None, 6272)              0         \n",
      "_________________________________________________________________\n",
      "dense_37 (Dense)             (None, 512)               3211776   \n",
      "_________________________________________________________________\n",
      "dropout_30 (Dropout)         (None, 512)               0         \n",
      "_________________________________________________________________\n",
      "dense_38 (Dense)             (None, 10)                5130      \n",
      "=================================================================\n",
      "Total params: 3,217,634.0\n",
      "Trainable params: 3,217,634.0\n",
      "Non-trainable params: 0.0\n",
      "_________________________________________________________________\n"
     ]
    }
   ],
   "source": [
    "# Setup\n",
    "features = processed_training_features\n",
    "targets  = processed_training_labels\n",
    "model    = mlp()"
   ]
  },
  {
   "cell_type": "code",
   "execution_count": 37,
   "metadata": {},
   "outputs": [
    {
     "name": "stdout",
     "output_type": "stream",
     "text": [
      "Train on 60000 samples, validate on 10000 samples\n",
      "Epoch 1/5\n",
      "60000/60000 [==============================] - 90s - loss: 1.3386 - acc: 0.7578 - val_loss: 0.2680 - val_acc: 0.9301\n",
      "Epoch 2/5\n",
      "60000/60000 [==============================] - 90s - loss: 0.3213 - acc: 0.9052 - val_loss: 0.2125 - val_acc: 0.9573\n",
      "Epoch 3/5\n",
      "60000/60000 [==============================] - 90s - loss: 0.2133 - acc: 0.9354 - val_loss: 0.1425 - val_acc: 0.9666\n",
      "Epoch 4/5\n",
      "60000/60000 [==============================] - 91s - loss: 0.1719 - acc: 0.9479 - val_loss: 0.1187 - val_acc: 0.9704\n",
      "Epoch 5/5\n",
      "60000/60000 [==============================] - 92s - loss: 0.1449 - acc: 0.9563 - val_loss: 0.1008 - val_acc: 0.9746\n"
     ]
    },
    {
     "data": {
      "text/plain": [
       "<keras.callbacks.History at 0x7f58a13fce10>"
      ]
     },
     "execution_count": 37,
     "metadata": {},
     "output_type": "execute_result"
    }
   ],
   "source": [
    "model.compile(loss=keras.losses.categorical_crossentropy,\n",
    "              optimizer=keras.optimizers.Adadelta(),\n",
    "              metrics=['accuracy'])\n",
    "\n",
    "model.fit(features, targets,\n",
    "          batch_size=128,\n",
    "          epochs=5,\n",
    "          verbose=1,\n",
    "          validation_data=(processed_testing_features, processed_testing_labels))"
   ]
  },
  {
   "cell_type": "code",
   "execution_count": 41,
   "metadata": {},
   "outputs": [
    {
     "name": "stdout",
     "output_type": "stream",
     "text": [
      "Multilayer Perceptron\n",
      "Test loss: 0.100844037634\n",
      "Test accuracy: 97.46\n"
     ]
    }
   ],
   "source": [
    "score = model.evaluate(processed_testing_features, processed_testing_labels, verbose=0)\n",
    "print('Multilayer Perceptron')\n",
    "print('Test loss:', score[0])\n",
    "print('Test accuracy: {0:.2f}'.format(score[1]*100))"
   ]
  },
  {
   "cell_type": "code",
   "execution_count": 42,
   "metadata": {},
   "outputs": [
    {
     "name": "stdout",
     "output_type": "stream",
     "text": [
      "Labels: \t[5, 0, 4, 1, 9]\n",
      "Predictions: \t[5, 0, 4, 1, 9]\n"
     ]
    },
    {
     "data": {
      "image/png": "[encoded data removed]",
      "text/plain": [
       "<matplotlib.figure.Figure at 0x7f58a12de438>"
      ]
     },
     "metadata": {},
     "output_type": "display_data"
    }
   ],
   "source": [
    "%matplotlib inline\n",
    "\n",
    "sample_count = 5\n",
    "predictions  = model.predict(features[:sample_count])\n",
    "print(\"Labels: \\t{}\".format([np.argmax(i) for i in targets[:sample_count]]))\n",
    "print(\"Predictions: \\t{}\".format([np.argmax(i) for i in predictions]))\n",
    "\n",
    "fig     = plt.figure(figsize=(8, 8))\n",
    "columns = 5\n",
    "rows    = 1\n",
    "\n",
    "for i in range(1, columns*rows+1):\n",
    "    img = features[i-1]\n",
    "    img = img.reshape(28, 28)\n",
    "    fig.add_subplot(rows, columns, i)\n",
    "    plt.imshow(img, aspect='equal')\n",
    "    plt.axis('off')\n",
    "    \n",
    "plt.subplots_adjust(wspace=0, hspace=0)\n",
    "plt.show()"
   ]
  },
  {
   "cell_type": "code",
   "execution_count": 44,
   "metadata": {},
   "outputs": [
    {
     "name": "stdout",
     "output_type": "stream",
     "text": [
      "_________________________________________________________________\n",
      "Layer (type)                 Output Shape              Param #   \n",
      "=================================================================\n",
      "input_2 (InputLayer)         (None, 28, 28, 1)         0         \n",
      "_________________________________________________________________\n",
      "conv2d_2 (Conv2D)            (None, 26, 26, 32)        320       \n",
      "_________________________________________________________________\n",
      "conv2d_3 (Conv2D)            (None, 24, 24, 64)        18496     \n",
      "_________________________________________________________________\n",
      "max_pooling2d_1 (MaxPooling2 (None, 12, 12, 64)        0         \n",
      "_________________________________________________________________\n",
      "dropout_31 (Dropout)         (None, 12, 12, 64)        0         \n",
      "_________________________________________________________________\n",
      "flatten_9 (Flatten)          (None, 9216)              0         \n",
      "_________________________________________________________________\n",
      "dense_39 (Dense)             (None, 128)               1179776   \n",
      "_________________________________________________________________\n",
      "dropout_32 (Dropout)         (None, 128)               0         \n",
      "_________________________________________________________________\n",
      "dense_40 (Dense)             (None, 10)                1290      \n",
      "=================================================================\n",
      "Total params: 1,199,882.0\n",
      "Trainable params: 1,199,882.0\n",
      "Non-trainable params: 0.0\n",
      "_________________________________________________________________\n"
     ]
    },
    {
     "name": "stderr",
     "output_type": "stream",
     "text": [
      "/usr/local/lib/python3.5/dist-packages/ipykernel_launcher.py:28: UserWarning: Update your `Model` call to the Keras 2 API: `Model(outputs=Tensor(\"de..., inputs=Tensor(\"in...)`\n"
     ]
    }
   ],
   "source": [
    "# Convolutional Neural Network\n",
    "features = processed_training_features\n",
    "targets  = processed_training_labels\n",
    "model    = cnn()"
   ]
  },
  {
   "cell_type": "code",
   "execution_count": 45,
   "metadata": {},
   "outputs": [
    {
     "name": "stdout",
     "output_type": "stream",
     "text": [
      "Train on 60000 samples, validate on 10000 samples\n",
      "Epoch 1/15\n",
      "59904/60000 [============================>.] - ETA: 0s - loss: 0.9511 - acc: 0.8421Epoch 00000: acc improved from -inf to 0.84222, saving model to mnist_model.hdf5\n",
      "60000/60000 [==============================] - 165s - loss: 0.9502 - acc: 0.8422 - val_loss: 0.0874 - val_acc: 0.9733\n",
      "Epoch 2/15\n",
      "59904/60000 [============================>.] - ETA: 0s - loss: 0.1522 - acc: 0.9566Epoch 00001: acc improved from 0.84222 to 0.95662, saving model to mnist_model.hdf5\n",
      "60000/60000 [==============================] - 165s - loss: 0.1522 - acc: 0.9566 - val_loss: 0.0643 - val_acc: 0.9810\n",
      "Epoch 3/15\n",
      "59904/60000 [============================>.] - ETA: 0s - loss: 0.1054 - acc: 0.9698Epoch 00002: acc improved from 0.95662 to 0.96985, saving model to mnist_model.hdf5\n",
      "60000/60000 [==============================] - 165s - loss: 0.1054 - acc: 0.9698 - val_loss: 0.0477 - val_acc: 0.9847\n",
      "Epoch 4/15\n",
      "59904/60000 [============================>.] - ETA: 0s - loss: 0.0795 - acc: 0.9773Epoch 00003: acc improved from 0.96985 to 0.97728, saving model to mnist_model.hdf5\n",
      "60000/60000 [==============================] - 165s - loss: 0.0795 - acc: 0.9773 - val_loss: 0.0445 - val_acc: 0.9872\n",
      "Epoch 5/15\n",
      "59904/60000 [============================>.] - ETA: 0s - loss: 0.0679 - acc: 0.9806Epoch 00004: acc improved from 0.97728 to 0.98058, saving model to mnist_model.hdf5\n",
      "60000/60000 [==============================] - 165s - loss: 0.0679 - acc: 0.9806 - val_loss: 0.0405 - val_acc: 0.9879\n",
      "Epoch 6/15\n",
      "59904/60000 [============================>.] - ETA: 0s - loss: 0.0575 - acc: 0.9826Epoch 00005: acc improved from 0.98058 to 0.98265, saving model to mnist_model.hdf5\n",
      "60000/60000 [==============================] - 164s - loss: 0.0574 - acc: 0.9827 - val_loss: 0.0356 - val_acc: 0.9891\n",
      "Epoch 7/15\n",
      "59904/60000 [============================>.] - ETA: 0s - loss: 0.0507 - acc: 0.9854Epoch 00006: acc improved from 0.98265 to 0.98547, saving model to mnist_model.hdf5\n",
      "60000/60000 [==============================] - 165s - loss: 0.0507 - acc: 0.9855 - val_loss: 0.0397 - val_acc: 0.9880\n",
      "Epoch 8/15\n",
      "59904/60000 [============================>.] - ETA: 0s - loss: 0.0451 - acc: 0.9872Epoch 00007: acc improved from 0.98547 to 0.98715, saving model to mnist_model.hdf5\n",
      "60000/60000 [==============================] - 165s - loss: 0.0452 - acc: 0.9871 - val_loss: 0.0347 - val_acc: 0.9899\n",
      "Epoch 9/15\n",
      "59904/60000 [============================>.] - ETA: 0s - loss: 0.0418 - acc: 0.9878Epoch 00008: acc improved from 0.98715 to 0.98783, saving model to mnist_model.hdf5\n",
      "60000/60000 [==============================] - 165s - loss: 0.0418 - acc: 0.9878 - val_loss: 0.0353 - val_acc: 0.9897\n",
      "Epoch 10/15\n",
      "59904/60000 [============================>.] - ETA: 0s - loss: 0.0387 - acc: 0.9889Epoch 00009: acc improved from 0.98783 to 0.98892, saving model to mnist_model.hdf5\n",
      "60000/60000 [==============================] - 165s - loss: 0.0387 - acc: 0.9889 - val_loss: 0.0396 - val_acc: 0.9896\n",
      "Epoch 11/15\n",
      "59904/60000 [============================>.] - ETA: 0s - loss: 0.0370 - acc: 0.9889Epoch 00010: acc improved from 0.98892 to 0.98897, saving model to mnist_model.hdf5\n",
      "60000/60000 [==============================] - 165s - loss: 0.0370 - acc: 0.9890 - val_loss: 0.0331 - val_acc: 0.9903\n",
      "Epoch 12/15\n",
      "59904/60000 [============================>.] - ETA: 0s - loss: 0.0328 - acc: 0.9899Epoch 00011: acc improved from 0.98897 to 0.98990, saving model to mnist_model.hdf5\n",
      "60000/60000 [==============================] - 165s - loss: 0.0329 - acc: 0.9899 - val_loss: 0.0358 - val_acc: 0.9899\n",
      "Epoch 13/15\n",
      "59904/60000 [============================>.] - ETA: 0s - loss: 0.0319 - acc: 0.9903Epoch 00012: acc improved from 0.98990 to 0.99030, saving model to mnist_model.hdf5\n",
      "60000/60000 [==============================] - 165s - loss: 0.0319 - acc: 0.9903 - val_loss: 0.0357 - val_acc: 0.9902\n",
      "Epoch 14/15\n",
      "59904/60000 [============================>.] - ETA: 0s - loss: 0.0313 - acc: 0.9907Epoch 00013: acc improved from 0.99030 to 0.99072, saving model to mnist_model.hdf5\n",
      "60000/60000 [==============================] - 165s - loss: 0.0312 - acc: 0.9907 - val_loss: 0.0312 - val_acc: 0.9912\n",
      "Epoch 15/15\n",
      "59904/60000 [============================>.] - ETA: 0s - loss: 0.0304 - acc: 0.9908Epoch 00014: acc improved from 0.99072 to 0.99075, saving model to mnist_model.hdf5\n",
      "60000/60000 [==============================] - 165s - loss: 0.0304 - acc: 0.9907 - val_loss: 0.0336 - val_acc: 0.9892\n"
     ]
    }
   ],
   "source": [
    "model.compile(loss=keras.losses.categorical_crossentropy,\n",
    "              optimizer=keras.optimizers.Adadelta(),\n",
    "              metrics=['accuracy'])\n",
    "\n",
    "checkpointer = ModelCheckpoint(filepath='mnist_model.hdf5', \n",
    "                               verbose=1, save_best_only=True, monitor='acc',)\n",
    "\n",
    "history = model.fit(features, targets,\n",
    "          batch_size=128,\n",
    "          epochs=15,\n",
    "          verbose=1,\n",
    "          callbacks=[checkpointer],\n",
    "          validation_data=(processed_testing_features, processed_testing_labels))"
   ]
  },
  {
   "cell_type": "code",
   "execution_count": 46,
   "metadata": {},
   "outputs": [
    {
     "name": "stdout",
     "output_type": "stream",
     "text": [
      "Convolutional Neural Network\n",
      "Test loss: 0.00951594145434\n",
      "Test accuracy: 99.79\n"
     ]
    }
   ],
   "source": [
    "score = model.evaluate(features, targets, verbose=0)\n",
    "print('Convolutional Neural Network')\n",
    "print('Test loss:', score[0])\n",
    "print('Test accuracy: {0:.2f}'.format(score[1]*100))"
   ]
  },
  {
   "cell_type": "code",
   "execution_count": 47,
   "metadata": {},
   "outputs": [
    {
     "name": "stdout",
     "output_type": "stream",
     "text": [
      "Labels: \t[5, 0, 4, 1, 9]\n",
      "Predictions: \t[5, 0, 4, 1, 9]\n"
     ]
    },
    {
     "data": {
      "image/png": "[encoded data removed]",
      "text/plain": [
       "<matplotlib.figure.Figure at 0x7f58a12dafd0>"
      ]
     },
     "metadata": {},
     "output_type": "display_data"
    }
   ],
   "source": [
    "%matplotlib inline\n",
    "\n",
    "sample_count = 5\n",
    "predictions  = model.predict(features[:sample_count])\n",
    "print(\"Labels: \\t{}\".format([np.argmax(i) for i in targets[:sample_count]]))\n",
    "print(\"Predictions: \\t{}\".format([np.argmax(i) for i in predictions]))\n",
    "\n",
    "fig     = plt.figure(figsize=(8, 8))\n",
    "columns = 5\n",
    "rows    = 1\n",
    "\n",
    "for i in range(1, columns*rows+1):\n",
    "    img = features[i-1]\n",
    "    img = img.reshape(28, 28)\n",
    "    fig.add_subplot(rows, columns, i)\n",
    "    plt.imshow(img, aspect='equal')\n",
    "    plt.axis('off')\n",
    "    \n",
    "plt.subplots_adjust(wspace=0, hspace=0)\n",
    "plt.show()"
   ]
  },
  {
   "cell_type": "code",
   "execution_count": null,
   "metadata": {},
   "outputs": [],
   "source": []
  }
 ],
 "metadata": {
  "kernelspec": {
   "display_name": "Python 3",
   "language": "python",
   "name": "python3"
  },
  "language_info": {
   "codemirror_mode": {
    "name": "ipython",
    "version": 3
   },
   "file_extension": ".py",
   "mimetype": "text/x-python",
   "name": "python",
   "nbconvert_exporter": "python",
   "pygments_lexer": "ipython3",
   "version": "3.5.2"
  }
 },
 "nbformat": 4,
 "nbformat_minor": 2
}
