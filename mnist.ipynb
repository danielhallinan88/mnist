{
 "cells": [
  {
   "cell_type": "code",
   "execution_count": 18,
   "metadata": {},
   "outputs": [],
   "source": [
    "from __future__ import print_function\n",
    "import keras\n",
    "from keras.datasets import mnist\n",
    "from keras.models import Sequential\n",
    "from keras.layers import Dense, Dropout, Flatten\n",
    "from keras.layers import Conv2D, MaxPooling2D\n",
    "from keras.utilsimport to_categorical\n",
    "from keras import backend as K\n",
    "\n",
    "import matplotlib.pyplot as plt\n",
    "import numpy as np"
   ]
  },
  {
   "cell_type": "code",
   "execution_count": 5,
   "metadata": {},
   "outputs": [],
   "source": [
    "(X_train, y_train), (X_test, y_test) = mnist.load_data()"
   ]
  },
  {
   "cell_type": "code",
   "execution_count": 17,
   "metadata": {},
   "outputs": [
    {
     "name": "stdout",
     "output_type": "stream",
     "text": [
      "Label:  0\n",
      "Label type:  <class 'numpy.uint8'>\n"
     ]
    },
    {
     "data": {
      "image/png": "[encoded data removed]",
      "text/plain": [
       "<matplotlib.figure.Figure at 0x7f016b50f6a0>"
      ]
     },
     "metadata": {},
     "output_type": "display_data"
    }
   ],
   "source": [
    "# Display example\n",
    "\n",
    "sample = 1\n",
    "\n",
    "print(\"Label: \", y_train[sample])\n",
    "print(\"Label type: \", type(y_train[sample]))\n",
    "plt.imshow(X_train[sample])\n",
    "plt.show()"
   ]
  },
  {
   "cell_type": "code",
   "execution_count": 36,
   "metadata": {},
   "outputs": [],
   "source": [
    "def preprocess_features(features):\n",
    "    return features\n",
    "\n",
    "def preprocess_labels(labels):\n",
    "    return to_categorical(labels, num_classes=10)"
   ]
  },
  {
   "cell_type": "code",
   "execution_count": 43,
   "metadata": {},
   "outputs": [
    {
     "name": "stdout",
     "output_type": "stream",
     "text": [
      "Training Feature shape: (60000, 28, 28)\n",
      "Training Label shape: (60000, 10)\n",
      "Testing Feature shape: (10000, 28, 28)\n",
      "Testing Label shape: (10000, 10)\n"
     ]
    }
   ],
   "source": [
    "processed_training_features = preprocess_features(X_train)\n",
    "print(\"Training Feature shape:\", processed_training_features.shape)\n",
    "\n",
    "processed_training_labels = preprocess_labels(y_train)\n",
    "print(\"Training Label shape:\", processed_training_labels.shape)\n",
    "\n",
    "processed_testing_features = preprocess_features(X_test)\n",
    "print(\"Testing Feature shape:\", processed_testing_features.shape)\n",
    "\n",
    "processed_testing_labels = preprocess_labels(y_test)\n",
    "print(\"Testing Label shape:\", processed_testing_labels.shape)"
   ]
  },
  {
   "cell_type": "code",
   "execution_count": 48,
   "metadata": {},
   "outputs": [],
   "source": [
    "def mlp():\n",
    "    model = Sequential()\n",
    "    model.add(Dense(512, activation='relu', input_shape=(28,28)))\n",
    "    model.add(Dropout(0.25))\n",
    "    model.add(Flatten())\n",
    "    model.add(Dense(512, activation='relu'))\n",
    "    model.add(Dropout(0.25))\n",
    "    model.add(Dense(10, activation='softmax'))\n",
    "    model.summary()\n",
    "    \n",
    "    return model\n",
    "    \n",
    "def cnn():\n",
    "    pass"
   ]
  },
  {
   "cell_type": "code",
   "execution_count": 49,
   "metadata": {},
   "outputs": [
    {
     "name": "stdout",
     "output_type": "stream",
     "text": [
      "_________________________________________________________________\n",
      "Layer (type)                 Output Shape              Param #   \n",
      "=================================================================\n",
      "dense_7 (Dense)              (None, 28, 512)           14848     \n",
      "_________________________________________________________________\n",
      "dropout_5 (Dropout)          (None, 28, 512)           0         \n",
      "_________________________________________________________________\n",
      "flatten_1 (Flatten)          (None, 14336)             0         \n",
      "_________________________________________________________________\n",
      "dense_8 (Dense)              (None, 512)               7340544   \n",
      "_________________________________________________________________\n",
      "dropout_6 (Dropout)          (None, 512)               0         \n",
      "_________________________________________________________________\n",
      "dense_9 (Dense)              (None, 10)                5130      \n",
      "=================================================================\n",
      "Total params: 7,360,522.0\n",
      "Trainable params: 7,360,522.0\n",
      "Non-trainable params: 0.0\n",
      "_________________________________________________________________\n"
     ]
    }
   ],
   "source": [
    "# Setup\n",
    "features = processed_training_features\n",
    "targets  = processed_training_labels\n",
    "model    = mlp()"
   ]
  },
  {
   "cell_type": "code",
   "execution_count": 50,
   "metadata": {},
   "outputs": [
    {
     "name": "stdout",
     "output_type": "stream",
     "text": [
      "Train on 60000 samples, validate on 10000 samples\n",
      "Epoch 1/5\n",
      "60000/60000 [==============================] - 141s - loss: 9.0329 - acc: 0.4373 - val_loss: 8.1073 - val_acc: 0.4959\n",
      "Epoch 2/5\n",
      "60000/60000 [==============================] - 141s - loss: 8.2232 - acc: 0.4888 - val_loss: 8.0620 - val_acc: 0.4992\n",
      "Epoch 3/5\n",
      "60000/60000 [==============================] - 143s - loss: 8.1752 - acc: 0.4918 - val_loss: 8.0247 - val_acc: 0.5017\n",
      "Epoch 4/5\n",
      "60000/60000 [==============================] - 150s - loss: 7.2829 - acc: 0.5464 - val_loss: 6.7284 - val_acc: 0.5814\n",
      "Epoch 5/5\n",
      "60000/60000 [==============================] - 152s - loss: 6.8432 - acc: 0.5740 - val_loss: 6.6900 - val_acc: 0.5842\n"
     ]
    },
    {
     "data": {
      "text/plain": [
       "<keras.callbacks.History at 0x7f016b397898>"
      ]
     },
     "execution_count": 50,
     "metadata": {},
     "output_type": "execute_result"
    }
   ],
   "source": [
    "model.compile(loss=keras.losses.categorical_crossentropy,\n",
    "              optimizer=keras.optimizers.Adadelta(),\n",
    "              metrics=['accuracy'])\n",
    "\n",
    "model.fit(features, targets,\n",
    "          batch_size=128,\n",
    "          epochs=15,\n",
    "          verbose=1,\n",
    "          validation_data=(processed_testing_features, processed_testing_labels))"
   ]
  },
  {
   "cell_type": "code",
   "execution_count": 52,
   "metadata": {},
   "outputs": [
    {
     "name": "stdout",
     "output_type": "stream",
     "text": [
      "Multilayer Perceptron\n",
      "Test loss: 6.69000943527\n",
      "Test accuracy: 0.5842\n"
     ]
    }
   ],
   "source": [
    "score = model.evaluate(processed_testing_features, processed_testing_labels, verbose=0)\n",
    "print('Multilayer Perceptron')\n",
    "print('Test loss:', score[0])\n",
    "print('Test accuracy:', score[1])"
   ]
  }
 ],
 "metadata": {
  "kernelspec": {
   "display_name": "Python 3",
   "language": "python",
   "name": "python3"
  },
  "language_info": {
   "codemirror_mode": {
    "name": "ipython",
    "version": 3
   },
   "file_extension": ".py",
   "mimetype": "text/x-python",
   "name": "python",
   "nbconvert_exporter": "python",
   "pygments_lexer": "ipython3",
   "version": "3.5.2"
  }
 },
 "nbformat": 4,
 "nbformat_minor": 2
}
